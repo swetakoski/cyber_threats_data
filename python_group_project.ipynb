{
 "cells": [
  {
   "cell_type": "code",
   "execution_count": 1,
   "id": "67898f22",
   "metadata": {},
   "outputs": [
    {
     "name": "stdout",
     "output_type": "stream",
     "text": [
      "Dataset Preview:\n",
      "   Country  Year        Attack Type     Target Industry  \\\n",
      "0    China  2019           Phishing           Education   \n",
      "1    China  2019         Ransomware              Retail   \n",
      "2    India  2017  Man-in-the-Middle                  IT   \n",
      "3       UK  2024         Ransomware  Telecommunications   \n",
      "4  Germany  2018  Man-in-the-Middle                  IT   \n",
      "\n",
      "   Financial Loss (in Million $)  Number of Affected Users Attack Source  \\\n",
      "0                          80.53                    773169  Hacker Group   \n",
      "1                          62.19                    295961  Hacker Group   \n",
      "2                          38.65                    605895  Hacker Group   \n",
      "3                          41.44                    659320  Nation-state   \n",
      "4                          74.41                    810682       Insider   \n",
      "\n",
      "  Security Vulnerability Type Defense Mechanism Used  \\\n",
      "0          Unpatched Software                    VPN   \n",
      "1          Unpatched Software               Firewall   \n",
      "2              Weak Passwords                    VPN   \n",
      "3          Social Engineering     AI-based Detection   \n",
      "4          Social Engineering                    VPN   \n",
      "\n",
      "   Incident Resolution Time (in Hours)  \n",
      "0                                   63  \n",
      "1                                   71  \n",
      "2                                   20  \n",
      "3                                    7  \n",
      "4                                   68  \n"
     ]
    }
   ],
   "source": [
    "# Import necessary libraries\n",
    "import pandas as pd  # pandas is used for handling tabular datasets (dataframes) and performing operations such as reading CSV files\n",
    "import numpy as np  # numpy is used for numerical computations such as working with arrays and applying mathematical operations\n",
    "\n",
    "# Load dataset from GitHub URL\n",
    "file_path = \"https://raw.githubusercontent.com/swetakoski/cyber_threats_data/refs/heads/main/Global_Cybersecurity_Threats_2015-2024.csv\"  # URL link to the dataset stored on GitHub\n",
    "\n",
    "# Read the dataset into a pandas dataframe\n",
    "df = pd.read_csv(file_path)  # Load the dataset as a pandas DataFrame\n",
    "\n",
    "# Display the first few rows of the dataframe to confirm the data has been loaded correctly\n",
    "print(\"Dataset Preview:\")  # Print a label for context\n",
    "print(df.head(5))  # Display the first 5 rows of the dataset\n"
   ]
  },
  {
   "cell_type": "code",
   "execution_count": 2,
   "id": "14a70ffa",
   "metadata": {},
   "outputs": [
    {
     "name": "stdout",
     "output_type": "stream",
     "text": [
      "<class 'pandas.core.frame.DataFrame'>\n",
      "RangeIndex: 3000 entries, 0 to 2999\n",
      "Data columns (total 10 columns):\n",
      " #   Column                               Non-Null Count  Dtype  \n",
      "---  ------                               --------------  -----  \n",
      " 0   Country                              3000 non-null   object \n",
      " 1   Year                                 3000 non-null   int64  \n",
      " 2   Attack Type                          3000 non-null   object \n",
      " 3   Target Industry                      3000 non-null   object \n",
      " 4   Financial Loss (in Million $)        3000 non-null   float64\n",
      " 5   Number of Affected Users             3000 non-null   int64  \n",
      " 6   Attack Source                        3000 non-null   object \n",
      " 7   Security Vulnerability Type          3000 non-null   object \n",
      " 8   Defense Mechanism Used               3000 non-null   object \n",
      " 9   Incident Resolution Time (in Hours)  3000 non-null   int64  \n",
      "dtypes: float64(1), int64(3), object(6)\n",
      "memory usage: 234.5+ KB\n"
     ]
    }
   ],
   "source": [
    "#data types\n",
    "df.info()"
   ]
  },
  {
   "cell_type": "code",
   "execution_count": 4,
   "id": "971c6fed",
   "metadata": {},
   "outputs": [
    {
     "name": "stdout",
     "output_type": "stream",
     "text": [
      "Country                                0\n",
      "Year                                   0\n",
      "Attack Type                            0\n",
      "Target Industry                        0\n",
      "Financial Loss (in Million $)          0\n",
      "Number of Affected Users               0\n",
      "Attack Source                          0\n",
      "Security Vulnerability Type            0\n",
      "Defense Mechanism Used                 0\n",
      "Incident Resolution Time (in Hours)    0\n",
      "dtype: int64\n"
     ]
    }
   ],
   "source": [
    "#check for any missing data\n",
    "missing_values = df.isna().sum()  # Number of missing values per column\n",
    "print(missing_values)"
   ]
  },
  {
   "cell_type": "code",
   "execution_count": 5,
   "id": "880cb68c",
   "metadata": {},
   "outputs": [
    {
     "data": {
      "text/plain": [
       "Country\n",
       "UK           16502.99\n",
       "Germany      15793.24\n",
       "Brazil       15782.62\n",
       "Australia    15403.00\n",
       "Japan        15197.34\n",
       "France       14972.28\n",
       "USA          14812.12\n",
       "Russia       14734.73\n",
       "India        14566.12\n",
       "China        13714.47\n",
       "Name: Financial Loss (in Million $), dtype: float64"
      ]
     },
     "execution_count": 5,
     "metadata": {},
     "output_type": "execute_result"
    }
   ],
   "source": [
    "#which countries faced the highest financial losses\n",
    "df.groupby('Country')['Financial Loss (in Million $)'].sum().sort_values(ascending=False) "
   ]
  },
  {
   "cell_type": "code",
   "execution_count": 6,
   "id": "e6bae690",
   "metadata": {},
   "outputs": [
    {
     "name": "stdout",
     "output_type": "stream",
     "text": [
      "Mean Incident Resolution Time is: 36.48 hours \n",
      "Median of the Incident Resolution Time is :  37.00 hours\n",
      "The standard deviation of Incident Response Time is :  20.57 hours\n"
     ]
    }
   ],
   "source": [
    "#calculate basic metric (mean, median, standard deviation) of Incident Resolution Time\n",
    "mean_resol_time= df['Incident Resolution Time (in Hours)'].mean()\n",
    "print(f\"Mean Incident Resolution Time is: {mean_resol_time:.2f} hours \")\n",
    "\n",
    "median_resol_time = np.median(df['Incident Resolution Time (in Hours)'])\n",
    "print(f\"Median of the Incident Resolution Time is : {median_resol_time: .2f} hours\")\n",
    "\n",
    "resol_time_std = df['Incident Resolution Time (in Hours)'].std()\n",
    "print(f\"The standard deviation of Incident Response Time is : {resol_time_std: .2f} hours\")"
   ]
  },
  {
   "cell_type": "code",
   "execution_count": 7,
   "id": "220f8d07",
   "metadata": {},
   "outputs": [
    {
     "name": "stdout",
     "output_type": "stream",
     "text": [
      "The average number of affected users per attack type are: Attack Type\n",
      "DDoS                 499437.410546\n",
      "Malware              508780.232990\n",
      "Man-in-the-Middle    520064.320261\n",
      "Phishing             487179.536862\n",
      "Ransomware           502825.369168\n",
      "SQL Injection        512469.833002\n",
      "Name: Number of Affected Users, dtype: float64\n"
     ]
    }
   ],
   "source": [
    "#indentify trends (average values)\n",
    "#average number of affected users per attack type\n",
    "\n",
    "avrg_aff_urs_per_attck = df.groupby('Attack Type')['Number of Affected Users'].mean() \n",
    "print (f\"The average number of affected users per attack type are: {avrg_aff_urs_per_attck:}\")"
   ]
  },
  {
   "cell_type": "code",
   "execution_count": 3,
   "id": "85f94532",
   "metadata": {},
   "outputs": [
    {
     "name": "stdout",
     "output_type": "stream",
     "text": [
      "No outliers detected.\n"
     ]
    }
   ],
   "source": [
    "#Detect any unusual values or outliers.\n",
    "q1_resol_time = df[\"Incident Resolution Time (in Hours)\"].quantile(0.25)\n",
    "q3_resol_time = df[\"Incident Resolution Time (in Hours)\"].quantile(0.75)\n",
    "iqr = q3_resol_time - q1_resol_time\n",
    "\n",
    "# Define outlier bounds\n",
    "lower_bound = q1_resol_time - 1.5 * iqr\n",
    "upper_bound = q3_resol_time + 1.5 * iqr\n",
    "\n",
    "outliers = df[(df['Incident Resolution Time (in Hours)'] < lower_bound) | (df['Incident Resolution Time (in Hours)'] > upper_bound)]\n",
    "\n",
    "# Check if there are any outliers\n",
    "if not outliers.empty:\n",
    "    print(\"No unusual values or outliers detected:\")\n",
    "    print(outliers)\n",
    "else:\n",
    "    print(\"No outliers detected.\")\n",
    "    \n"
   ]
  },
  {
   "cell_type": "code",
   "execution_count": 13,
   "id": "e114494b",
   "metadata": {},
   "outputs": [
    {
     "name": "stdout",
     "output_type": "stream",
     "text": [
      "   Year  Financial Loss (in Million $)\n",
      "0  2015                       14510.21\n",
      "1  2016                       13947.26\n",
      "2  2017                       16261.68\n",
      "3  2018                       14720.48\n",
      "4  2019                       13134.69\n",
      "5  2020                       15767.95\n",
      "6  2021                       15873.41\n",
      "7  2022                       15870.86\n",
      "8  2023                       15958.08\n",
      "9  2024                       15434.29\n"
     ]
    }
   ],
   "source": [
    "#Perform a Time-Based Analysis\n",
    "#Group data by Year and Financial Loos in that particular year\n",
    "# Drop rows with null values\n",
    "df_cleaned = df.dropna()\n",
    "\n",
    "grouped_by_year = df_cleaned.groupby('Year').agg({\n",
    "    'Financial Loss (in Million $)': 'sum'\n",
    "     \n",
    "}).reset_index()\n",
    "\n",
    "# Display grouped data\n",
    "print(grouped_by_year)"
   ]
  },
  {
   "cell_type": "code",
   "execution_count": 18,
   "id": "52009f4d",
   "metadata": {},
   "outputs": [
    {
     "name": "stdout",
     "output_type": "stream",
     "text": [
      "🌍 Year with the highest financial loss:\n",
      "   Year  Financial Loss (in Million $)\n",
      "2  2017                       16261.68\n",
      "\n",
      "🌍 Year with the highest number of affected users:\n",
      "   Year  Number of Affected Users\n",
      "7  2022                 163263160\n"
     ]
    }
   ],
   "source": [
    "#Identify trends, peaks, or seasonalpatterns.\n",
    "\n",
    "#group the data by year and calculate the sum of financial losses and affected users\n",
    "\n",
    "\n",
    "# Drop rows with null values\n",
    "df_cleaned = df.dropna()\n",
    "\n",
    "# Group by Year and sum financial losses and affected users\n",
    "grouped_by_year = df_cleaned.groupby('Year').agg({\n",
    "    'Financial Loss (in Million $)': 'sum',\n",
    "    'Number of Affected Users': 'sum'\n",
    "}).reset_index()\n",
    "\n",
    "# Sort by Financial Loss and Affected Users to find the highest values\n",
    "highest_financial_losses = grouped_by_year.sort_values(by='Financial Loss (in Million $)', ascending=False).head(1)\n",
    "highest_affected_users = grouped_by_year.sort_values(by='Number of Affected Users', ascending=False).head(1)\n",
    "\n",
    "# Display the years with the highest financial losses and affected users\n",
    "print(f\"🌍 Year with the highest financial loss:\")\n",
    "print(highest_financial_losses[['Year', 'Financial Loss (in Million $)']])\n",
    "\n",
    "print(f\"\\n🌍 Year with the highest number of affected users:\")\n",
    "print(highest_affected_users[['Year', 'Number of Affected Users']])"
   ]
  },
  {
   "cell_type": "code",
   "execution_count": 66,
   "id": "08e0166b",
   "metadata": {},
   "outputs": [
    {
     "data": {
      "image/png": "[encoded data removed]",
      "text/plain": [
       "<Figure size 1200x600 with 1 Axes>"
      ]
     },
     "metadata": {},
     "output_type": "display_data"
    }
   ],
   "source": [
    "# Create meaningful graphs and charts to present insights.\n",
    "avg_financial_loss_per_attack = df.groupby('Attack Type')['Financial Loss (in Million $)'].mean()\n",
    "\n",
    "# Plotting the bar chart\n",
    "plt.figure(figsize=(12, 6))\n",
    "avg_financial_loss_per_attack.plot(kind='bar', color='skyblue')\n",
    "\n",
    "# Adding labels and title\n",
    "plt.title('Average Financial Loss per Attack Type')\n",
    "plt.xlabel('Attack Type')\n",
    "plt.ylabel('Average Financial Loss (in Million $)')\n",
    "plt.xticks(rotation=45, ha='right')  # Rotate the x-axis labels for better readability\n",
    "plt.tight_layout()\n",
    "plt.show()\n"
   ]
  },
  {
   "cell_type": "code",
   "execution_count": null,
   "id": "11a3957b",
   "metadata": {},
   "outputs": [],
   "source": []
  }
 ],
 "metadata": {
  "kernelspec": {
   "display_name": "Python 3 (ipykernel)",
   "language": "python",
   "name": "python3"
  },
  "language_info": {
   "codemirror_mode": {
    "name": "ipython",
    "version": 3
   },
   "file_extension": ".py",
   "mimetype": "text/x-python",
   "name": "python",
   "nbconvert_exporter": "python",
   "pygments_lexer": "ipython3",
   "version": "3.11.4"
  }
 },
 "nbformat": 4,
 "nbformat_minor": 5
}
